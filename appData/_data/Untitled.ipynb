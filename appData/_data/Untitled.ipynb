{
 "cells": [
  {
   "cell_type": "code",
   "execution_count": 2,
   "id": "44ed73a5-208a-452b-8a34-db5f613327ea",
   "metadata": {},
   "outputs": [],
   "source": [
    "import os\n",
    "import pandas as pd"
   ]
  },
  {
   "cell_type": "code",
   "execution_count": 8,
   "id": "d68e5531-f7fc-4135-82c8-32f543d6ade3",
   "metadata": {},
   "outputs": [
    {
     "data": {
      "text/plain": [
       "['amazon_audio_video.csv',\n",
       " 'amazon_camra.csv',\n",
       " 'amazon_car_accessories.csv',\n",
       " 'amazon_laptop.csv',\n",
       " 'amazon_men.csv',\n",
       " 'amazon_men_shoe.csv',\n",
       " 'amazon_mobile.csv',\n",
       " 'amazon_movies.csv',\n",
       " 'amazon_toys_1.csv']"
      ]
     },
     "execution_count": 8,
     "metadata": {},
     "output_type": "execute_result"
    }
   ],
   "source": [
    "files = os.listdir()[1:-1]\n",
    "files"
   ]
  },
  {
   "cell_type": "code",
   "execution_count": null,
   "id": "df4484e1-baab-4649-b9a4-b2b3a4f1b509",
   "metadata": {},
   "outputs": [],
   "source": []
  },
  {
   "cell_type": "md",
   "execution_count": null,
   "id": "c7174e1b-146c-415d-8be0-a000c9176ffc",
   "metadata": {},
   "outputs": [],
   "source": []
  }
 ],
 "metadata": {
  "kernelspec": {
   "display_name": "Python 3 (ipykernel)",
   "language": "python",
   "name": "python3"
  },
  "language_info": {
   "codemirror_mode": {
    "name": "ipython",
    "version": 3
   },
   "file_extension": ".py",
   "mimetype": "text/x-python",
   "name": "python",
   "nbconvert_exporter": "python",
   "pygments_lexer": "ipython3",
   "version": "3.10.9"
  }
 },
 "nbformat": 4,
 "nbformat_minor": 5
}
